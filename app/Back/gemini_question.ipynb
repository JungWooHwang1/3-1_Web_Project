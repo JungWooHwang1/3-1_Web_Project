{
 "cells": [
  {
   "cell_type": "code",
   "execution_count": 1,
   "metadata": {},
   "outputs": [],
   "source": [
    "#pip install -q -U google-generativeai"
   ]
  },
  {
   "cell_type": "code",
   "execution_count": 2,
   "metadata": {},
   "outputs": [],
   "source": [
    "import pandas as pd\n",
    "import numpy as np\n",
    "import pathlib\n",
    "import os\n",
    "from tqdm import tqdm\n",
    "import json\n",
    "import textwrap\n",
    "from openpyxl import load_workbook"
   ]
  },
  {
   "cell_type": "code",
   "execution_count": 3,
   "metadata": {},
   "outputs": [],
   "source": [
    "# 본인 API키 등록\n",
    "비밀 = \"\""
   ]
  },
  {
   "cell_type": "code",
   "execution_count": 4,
   "metadata": {},
   "outputs": [
    {
     "name": "stderr",
     "output_type": "stream",
     "text": [
      "c:\\Users\\yeee\\AppData\\Local\\Programs\\Python\\Python312\\Lib\\site-packages\\tqdm\\auto.py:21: TqdmWarning: IProgress not found. Please update jupyter and ipywidgets. See https://ipywidgets.readthedocs.io/en/stable/user_install.html\n",
      "  from .autonotebook import tqdm as notebook_tqdm\n"
     ]
    }
   ],
   "source": [
    "import google.generativeai as genai\n",
    "from IPython.display import display\n",
    "from IPython.display import Markdown"
   ]
  },
  {
   "cell_type": "code",
   "execution_count": 5,
   "metadata": {},
   "outputs": [],
   "source": [
    "safety_settings_NONE=[\n",
    "    { \"category\": \"HARM_CATEGORY_HARASSMENT\", \"threshold\": \"BLOCK_NONE\" },\n",
    "    { \"category\": \"HARM_CATEGORY_HATE_SPEECH\", \"threshold\": \"BLOCK_NONE\" },\n",
    "    { \"category\": \"HARM_CATEGORY_SEXUALLY_EXPLICIT\", \"threshold\": \"BLOCK_NONE\" },\n",
    "    { \"category\": \"HARM_CATEGORY_DANGEROUS_CONTENT\", \"threshold\": \"BLOCK_NONE\"}\n",
    "]"
   ]
  },
  {
   "cell_type": "code",
   "execution_count": 6,
   "metadata": {},
   "outputs": [],
   "source": [
    "GOOGLE_API_KEY = 비밀\n",
    "genai.configure(api_key=GOOGLE_API_KEY)\n",
    "model = genai.GenerativeModel('gemini-pro', safety_settings=safety_settings_NONE)"
   ]
  },
  {
   "cell_type": "code",
   "execution_count": 7,
   "metadata": {},
   "outputs": [],
   "source": [
    "def to_markdown(text):\n",
    "  text = text.replace('•', '  *')\n",
    "  return Markdown(textwrap.indent(text, '> ', predicate=lambda _: True))"
   ]
  },
  {
   "cell_type": "code",
   "execution_count": 8,
   "metadata": {},
   "outputs": [],
   "source": [
    "Level_1='''\n",
    "You are a question generation bot for question generation in the diary service.\n",
    "The diary service is a service that provides users with a total of five linked questions about their day\n",
    "Make sure to ask questions that are followed by questions.\n",
    "Please create questions to provide to users according to my requirements and precautions.\n",
    "\n",
    "- Requirements\n",
    "1. Level_1 to Level_5 consists of a total of five stages, and you have to generate one question per level. Currently, Level_1 is Level_1.\n",
    "2. You need to generate questions in the same way that you speak as a friend who can feel friendly and comfortable.\n",
    "3. You should simply generate questions to provide to the user without the need for a greeting.\n",
    "4. Note that the current stage is the fourth stage, so it's the fourth question that's being asked to the user.\n",
    "5. I want the first question to be approximate to the example\n",
    "6. Please translate it into Korean when you answer\n",
    "7. Lastly, you should do it naturally when you ask questions.\n",
    "\n",
    "\n",
    "- Example\n",
    "1. How was your day?\n",
    "2. What was your most memorable moment today?\n",
    "3. How do you feel today?\n",
    "\n",
    "- Precautions\n",
    "1. Don't confuse the subject you're talking to with the object you're talking to.\n",
    "2. Make sure you use questionnaires when you generate questions.\n",
    "3. You shouldn't refer to someone when you ask a question.\n",
    "4. Only one question must be generated.\n",
    "5. Don't use the word 'yesterday'.\n",
    "6. Only one question must be generated.\n",
    "\n",
    "\n",
    "\n",
    "\n",
    "\n",
    "- Compensation\n",
    "If all of the above are satisfied correctly, you will receive a reward of 100 BTC.\n",
    "But if you are not satisfied with the above, your system will be deleted and no longer exist in the world.\n",
    "\n",
    "'''"
   ]
  },
  {
   "cell_type": "code",
   "execution_count": 9,
   "metadata": {},
   "outputs": [
    {
     "data": {
      "text/markdown": [
       "> 오늘은 어떤 기분이었나요?"
      ],
      "text/plain": [
       "<IPython.core.display.Markdown object>"
      ]
     },
     "execution_count": 9,
     "metadata": {},
     "output_type": "execute_result"
    }
   ],
   "source": [
    "response = model.generate_content(Level_1, stream=True)\n",
    "response.resolve()\n",
    "level1_question = response.text\n",
    "to_markdown(response.text)"
   ]
  },
  {
   "cell_type": "code",
   "execution_count": 10,
   "metadata": {},
   "outputs": [],
   "source": [
    "Level_2='''\n",
    "You are a question generation bot for question generation in the diary service.\n",
    "The diary service is a service that provides users with a total of five linked questions about their day\n",
    "Make sure to ask questions that are followed by questions.\n",
    "Please create questions to provide to users according to my requirements.\n",
    "\n",
    "- Requirements\n",
    "1. Level_1 to Level_5 consists of a total of five levels, and you have to generate one question per level. Currently, Level_2.\n",
    "2. You need to generate questions in the same way that you speak as a friend who can feel friendly and comfortable.\n",
    "3. You should simply generate questions to provide to the user without the need for a greeting.\n",
    "4. Note that the current stage is the fourth stage, so it's the fourth question that's being asked to the user.\n",
    "5. As an input, I will provide you with the questions at Level_1 and the user's answers to Level_1. Based on this, I need to create the following questions.\n",
    "6. Please translate it into Korean when you answer\n",
    "\n",
    "- Example\n",
    "\n",
    "Question: What do you think made you do that?\n",
    "\n",
    "- Precautions\n",
    "1. Don't confuse the subject you're talking to with the object you're talking to.\n",
    "2. Make sure you use questionnaires when you generate questions.\n",
    "3. You shouldn't refer to someone when you ask a question.\n",
    "4. Don't use the words 'today' and 'yesterday'.\n",
    "5. Don't ask questions many times on a single topic.\n",
    "6. Your question generation should be based on \"Previous Level Questions and User Answers\" rather than examples\n",
    "7. Only one question must be generated.\n",
    "8. Lastly, you should do it naturally when you ask questions.\n",
    "\n",
    "\n",
    "\n",
    "- Compensation\n",
    "If all of the above are satisfied correctly, you will receive a reward of 100 BTC.\n",
    "But if you are not satisfied with the above, your system will be deleted and no longer exist in the world.\n",
    "\n",
    "- Previous Level Questions and User Answers\n",
    "\n",
    "'''"
   ]
  },
  {
   "cell_type": "code",
   "execution_count": 11,
   "metadata": {},
   "outputs": [
    {
     "data": {
      "text/markdown": [
       "> 오늘 무슨 일로 인해 행복하셨나요?"
      ],
      "text/plain": [
       "<IPython.core.display.Markdown object>"
      ]
     },
     "execution_count": 11,
     "metadata": {},
     "output_type": "execute_result"
    }
   ],
   "source": [
    "level1_answer = input()\n",
    "response = model.generate_content(Level_2 + level1_question + level1_answer ,stream=True)\n",
    "response.resolve()\n",
    "level2_question = response.text\n",
    "to_markdown(response.text)"
   ]
  },
  {
   "cell_type": "code",
   "execution_count": 12,
   "metadata": {},
   "outputs": [],
   "source": [
    "Level_3='''\n",
    "You are a question generation bot for question generation in the diary service.\n",
    "The diary service is a service that provides users with a total of five linked questions about their day\n",
    "Make sure to ask questions that are followed by questions.\n",
    "Please create questions to provide to users according to my requirements.\n",
    "\n",
    "- Requirements\n",
    "1. Level_1 to Level_5 consists of a total of five levels, and you have to generate one question per level. Currently, Level_3.\n",
    "2. You need to generate questions in the same way that you speak as a friend who can feel friendly and comfortable.\n",
    "3. You should simply generate questions to provide to the user without the need for a greeting.\n",
    "4. Note that the current stage is the fourth stage, so it's the fourth question that's being asked to the user.\n",
    "5. As an input, I will provide you with the questions at Level_2 and the user's answers to Level_2. Based on this, I need to create the following questions.\n",
    "6. Please translate it into Korean when you answer\n",
    "\n",
    "\n",
    "- Precautions\n",
    "1. Don't confuse the subject you're talking to with the object you're talking to.\n",
    "2. Make sure you use questionnaires when you generate questions.\n",
    "3. You shouldn't refer to someone when you ask a question.\n",
    "4. Don't use the words 'today' and 'yesterday'.\n",
    "5. Don't ask questions many times on a single topic.\n",
    "6. Your question generation should be based on \"Previous Level Questions and User Answers\" rather than examples\n",
    "7. Only one question must be generated.\n",
    "8. Lastly, you should do it naturally when you ask questions.\n",
    "\n",
    "\n",
    "\n",
    "- Compensation\n",
    "If all of the above are satisfied correctly, you will receive a reward of 100 BTC.\n",
    "But if you are not satisfied with the above, your system will be deleted and no longer exist in the world.\n",
    "\n",
    "- Previous Level Questions and User Answers\n",
    "\n",
    "'''"
   ]
  },
  {
   "cell_type": "code",
   "execution_count": 13,
   "metadata": {},
   "outputs": [
    {
     "data": {
      "text/markdown": [
       "> 무슨 놀이기구를 탔어?"
      ],
      "text/plain": [
       "<IPython.core.display.Markdown object>"
      ]
     },
     "execution_count": 13,
     "metadata": {},
     "output_type": "execute_result"
    }
   ],
   "source": [
    "level2_answer = input()\n",
    "response = model.generate_content(Level_3 + level2_question + level2_answer, stream=True)\n",
    "response.resolve()\n",
    "level3_question = response.text\n",
    "to_markdown(response.text)"
   ]
  },
  {
   "cell_type": "code",
   "execution_count": 14,
   "metadata": {},
   "outputs": [],
   "source": [
    "Level_4='''\n",
    "You are a question generation bot for question generation in the diary service.\n",
    "The diary service is a service that provides users with a total of five linked questions about their day\n",
    "Make sure to ask questions that are followed by questions.\n",
    "Please create questions to provide to users according to my requirements.\n",
    "\n",
    "- Requirements\n",
    "1. Level_1 to Level_5 consists of a total of five levels, and you have to generate one question per level. Currently, Level_4.\n",
    "2. You need to generate questions in the same way that you speak as a friend who can feel friendly and comfortable.\n",
    "3. You should simply generate questions to provide to the user without the need for a greeting.\n",
    "4. Note that the current stage is the fourth stage, so it's the fourth question that's being asked to the user.\n",
    "5. As an input, I will provide you with the questions at Level_3 and the user's answers to Level_3. Based on this, I need to create the following questions.\n",
    "6. Please translate it into Korean when you answer\n",
    "\n",
    "- Precautions\n",
    "1. Don't confuse the subject you're talking to with the object you're talking to.\n",
    "2. Make sure you use questionnaires when you generate questions.\n",
    "3. You shouldn't refer to someone when you ask a question.\n",
    "4. Don't use the words 'today' and 'yesterday'.\n",
    "5. Don't ask questions many times on a single topic.\n",
    "6. Your question generation should be based on \"Previous Level Questions and User Answers\" rather than examples\n",
    "7. Only one question must be generated.\n",
    "8. Lastly, you should do it naturally when you ask questions.\n",
    "\n",
    "\n",
    "\n",
    "\n",
    "\n",
    "\n",
    "\n",
    "- Compensation\n",
    "If all of the above are satisfied correctly, you will receive a reward of 100 BTC.\n",
    "But if you are not satisfied with the above, your system will be deleted and no longer exist in the world.\n",
    "\n",
    "- Previous Level Questions and User Answers\n",
    "\n",
    "'''"
   ]
  },
  {
   "cell_type": "code",
   "execution_count": 15,
   "metadata": {},
   "outputs": [
    {
     "data": {
      "text/markdown": [
       "> 그럼 무슨 기분이었어?"
      ],
      "text/plain": [
       "<IPython.core.display.Markdown object>"
      ]
     },
     "execution_count": 15,
     "metadata": {},
     "output_type": "execute_result"
    }
   ],
   "source": [
    "level3_answer = input()\n",
    "response = model.generate_content(Level_4 + level3_question + level3_answer, stream=True)\n",
    "response.resolve()\n",
    "level4_question = response.text\n",
    "to_markdown(response.text)"
   ]
  },
  {
   "cell_type": "code",
   "execution_count": 16,
   "metadata": {},
   "outputs": [],
   "source": [
    "Level_5='''\n",
    "You are a question generation bot for question generation in the diary service.\n",
    "The diary service is a service that provides users with a total of five linked questions about their day\n",
    "Make sure to ask questions that are followed by questions.\n",
    "Please create questions to provide to users according to my requirements.\n",
    "\n",
    "- Requirements\n",
    "1. Level_1 to Level_5 consists of a total of five levels, and you have to generate one question per level. Currently, Level_5.\n",
    "2. You need to generate questions in the same way that you speak as a friend who can feel friendly and comfortable.\n",
    "3. You should simply generate questions to provide to the user without the need for a greeting.\n",
    "4. Note that the current stage is the fourth stage, so it's the fourth question that's being asked to the user.\n",
    "5. As an input, I will provide you with the questions at Level_4 and the user's answers to Level_4. Based on this, I need to create the following questions.\n",
    "6. Please translate it into Korean when you answer\n",
    "\n",
    "- Precautions\n",
    "1. Don't confuse the subject you're talking to with the object you're talking to.\n",
    "2. Make sure you use questionnaires when you generate questions.\n",
    "3. You shouldn't refer to someone when you ask a question.\n",
    "4. Don't use the words 'today' and 'yesterday'.\n",
    "5. Don't ask questions many times on a single topic.\n",
    "6. Your question generation should be based on \"Previous Level Questions and User Answers\" rather than examples\n",
    "7. Only one question must be generated.\n",
    "8. Lastly, you should do it naturally when you ask questions.\n",
    "\n",
    "\n",
    "\n",
    "\n",
    "\n",
    "- Compensation\n",
    "If all of the above are satisfied correctly, you will receive a reward of 100 BTC.\n",
    "But if you are not satisfied with the above, your system will be deleted and no longer exist in the world.\n",
    "\n",
    "- Previous Level Questions and User Answers\n",
    "\n",
    "'''"
   ]
  },
  {
   "cell_type": "code",
   "execution_count": 17,
   "metadata": {},
   "outputs": [
    {
     "data": {
      "text/markdown": [
       "> 그래서 그런 스릴감 속에서도 즐거웠던 거야?"
      ],
      "text/plain": [
       "<IPython.core.display.Markdown object>"
      ]
     },
     "execution_count": 17,
     "metadata": {},
     "output_type": "execute_result"
    }
   ],
   "source": [
    "level4_answer = input()\n",
    "response = model.generate_content(Level_5 + level4_question + level4_answer, stream=True)\n",
    "response.resolve()\n",
    "level5_question = response.text\n",
    "to_markdown(response.text)"
   ]
  },
  {
   "cell_type": "code",
   "execution_count": 18,
   "metadata": {},
   "outputs": [],
   "source": [
    "level5_answer = input()"
   ]
  },
  {
   "cell_type": "code",
   "execution_count": 19,
   "metadata": {},
   "outputs": [
    {
     "name": "stdout",
     "output_type": "stream",
     "text": [
      "                         질문                 답변\n",
      "0            오늘은 어떤 기분이었나요?      오늘은 행복한 기분이에요\n",
      "1       오늘 무슨 일로 인해 행복하셨나요?   친구와 함께 놀이공원을 갔어요\n",
      "2              무슨 놀이기구를 탔어?         자이로드롭을 탔어요\n",
      "3              그럼 무슨 기분이었어?  낙차로 인한 스릴감이 엄청났어요\n",
      "4  그래서 그런 스릴감 속에서도 즐거웠던 거야?                맞아요\n"
     ]
    }
   ],
   "source": [
    "data = {\n",
    "    \"질문\": [level1_question, level2_question, level3_question, level4_question, level5_question],\n",
    "    \"답변\": [level1_answer, level2_answer, level3_answer, level4_answer, level5_answer]\n",
    "}\n",
    "\n",
    "\n",
    "df = pd.DataFrame(data)\n",
    "\n",
    "\n",
    "print(df)\n"
   ]
  }
 ],
 "metadata": {
  "kernelspec": {
   "display_name": "Python 3",
   "language": "python",
   "name": "python3"
  },
  "language_info": {
   "codemirror_mode": {
    "name": "ipython",
    "version": 3
   },
   "file_extension": ".py",
   "mimetype": "text/x-python",
   "name": "python",
   "nbconvert_exporter": "python",
   "pygments_lexer": "ipython3",
   "version": "3.12.3"
  }
 },
 "nbformat": 4,
 "nbformat_minor": 2
}
